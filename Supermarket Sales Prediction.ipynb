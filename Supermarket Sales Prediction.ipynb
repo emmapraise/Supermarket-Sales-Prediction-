{
 "cells": [
  {
   "cell_type": "markdown",
   "metadata": {},
   "source": [
    "#  Get all required libraries"
   ]
  },
  {
   "cell_type": "code",
   "execution_count": 1,
   "metadata": {},
   "outputs": [],
   "source": [
    "import os\n",
    "import pandas as pd\n",
    "import numpy as np\n",
    "\n",
    "import matplotlib.pyplot as plt\n",
    "%matplotlib inline\n",
    "import seaborn as sns\n",
    "\n",
    "from sklearn.metrics import mean_squared_error\n",
    "from sklearn.ensemble import RandomForestRegressor,GradientBoostingRegressor, ExtraTreesRegressor\n",
    "import xgboost as xgb\n",
    "\n",
    "# Shutdown warning prompts\n",
    "import warnings\n",
    "warnings.filterwarnings(\"ignore\")\n",
    "# to enable warnings: warnings.filterwarnings('always')"
   ]
  },
  {
   "cell_type": "markdown",
   "metadata": {},
   "source": [
    "# Split data into train and test and print list of all columns and  list of columns containing NaN values"
   ]
  },
  {
   "cell_type": "code",
   "execution_count": 2,
   "metadata": {
    "scrolled": true
   },
   "outputs": [
    {
     "name": "stdout",
     "output_type": "stream",
     "text": [
      "Columns list: ['Product_Fat_Content', 'Product_Identifier', 'Product_Price', 'Product_Shelf_Visibility', 'Product_Supermarket_Sales', 'Product_Type', 'Product_Weight', 'Supermarket _Size', 'Supermarket_Identifier', 'Supermarket_Location_Type', 'Supermarket_Opening_Year', 'Supermarket_Type']\n",
      "Columns containing NaN values: ['Product_Weight', 'Supermarket _Size']\n"
     ]
    }
   ],
   "source": [
    "PATH = 'datasets'\n",
    "def load_sales_data1(sales_path=PATH):\n",
    "    csv_path = os.path.join(sales_path, \"train.csv\")\n",
    "    return pd.read_csv(csv_path)\n",
    "\n",
    "\n",
    "def load_sales_data2(sales_path=PATH):\n",
    "    csv_path = os.path.join(sales_path, \"test.csv\")\n",
    "    return pd.read_csv(csv_path)\n",
    "\n",
    "\n",
    "train=load_sales_data1()\n",
    " \n",
    "trainfull_df = train[train.columns.difference(['Product_Supermarket_Identifier'])]\n",
    "testfull_df = load_sales_data2()\n",
    "\n",
    "columns_list = testfull_df.columns.tolist()\n",
    "columns_list = trainfull_df.columns.tolist()\n",
    "print(\"Columns list: \"+str(columns_list))\n",
    "\n",
    "nan_columns = testfull_df.columns[pd.isnull(testfull_df).any()].tolist()\n",
    "print(\"Columns containing NaN values: \"+str(nan_columns))\n",
    "#trainfull_df.info()"
   ]
  },
  {
   "cell_type": "markdown",
   "metadata": {},
   "source": [
    "# Describe train dataset"
   ]
  },
  {
   "cell_type": "code",
   "execution_count": 3,
   "metadata": {},
   "outputs": [
    {
     "name": "stdout",
     "output_type": "stream",
     "text": [
      "       Product_Fat_Content Product_Identifier  Product_Price  \\\n",
      "count                 4990               4990    4990.000000   \n",
      "unique                   3               1451            NaN   \n",
      "top                Low Fat              NCL31            NaN   \n",
      "freq                  3039                  9            NaN   \n",
      "mean                   NaN                NaN     391.803796   \n",
      "std                    NaN                NaN     119.378259   \n",
      "min                    NaN                NaN      78.730000   \n",
      "25%                    NaN                NaN     307.890000   \n",
      "50%                    NaN                NaN     393.860000   \n",
      "75%                    NaN                NaN     465.067500   \n",
      "max                    NaN                NaN     667.220000   \n",
      "\n",
      "        Product_Shelf_Visibility  Product_Supermarket_Sales Product_Type  \\\n",
      "count                4990.000000                4990.000000         4990   \n",
      "unique                       NaN                        NaN           16   \n",
      "top                          NaN                        NaN  Snack Foods   \n",
      "freq                         NaN                        NaN          758   \n",
      "mean                    0.066916                6103.520164          NaN   \n",
      "std                     0.053058                4447.333835          NaN   \n",
      "min                     0.000000                  83.230000          NaN   \n",
      "25%                     0.027273                2757.660000          NaN   \n",
      "50%                     0.053564                5374.675000          NaN   \n",
      "75%                     0.095358                8522.240000          NaN   \n",
      "max                     0.328391               32717.410000          NaN   \n",
      "\n",
      "        Product_Weight Supermarket _Size Supermarket_Identifier  \\\n",
      "count      4188.000000              3540                   4990   \n",
      "unique             NaN                 3                     10   \n",
      "top                NaN            Medium            CHUKWUDI049   \n",
      "freq               NaN              1582                    620   \n",
      "mean         12.908838               NaN                    NaN   \n",
      "std           4.703256               NaN                    NaN   \n",
      "min           4.555000               NaN                    NaN   \n",
      "25%           8.767500               NaN                    NaN   \n",
      "50%          12.600000               NaN                    NaN   \n",
      "75%          17.100000               NaN                    NaN   \n",
      "max          21.350000               NaN                    NaN   \n",
      "\n",
      "       Supermarket_Location_Type  Supermarket_Opening_Year   Supermarket_Type  \n",
      "count                       4990               4990.000000               4990  \n",
      "unique                         3                       NaN                  4  \n",
      "top                    Cluster 3                       NaN  Supermarket Type1  \n",
      "freq                        1940                       NaN               3304  \n",
      "mean                         NaN               2004.783567                NaN  \n",
      "std                          NaN                  8.283151                NaN  \n",
      "min                          NaN               1992.000000                NaN  \n",
      "25%                          NaN               1994.000000                NaN  \n",
      "50%                          NaN               2006.000000                NaN  \n",
      "75%                          NaN               2011.000000                NaN  \n",
      "max                          NaN               2016.000000                NaN  \n"
     ]
    }
   ],
   "source": [
    "print(trainfull_df.describe(include=\"all\"))"
   ]
  },
  {
   "cell_type": "markdown",
   "metadata": {},
   "source": [
    "# Describe test dataset"
   ]
  },
  {
   "cell_type": "markdown",
   "metadata": {},
   "source": [
    "print(testfull_df.describe(include=\"all\"))"
   ]
  },
  {
   "cell_type": "markdown",
   "metadata": {},
   "source": [
    "# Performing data cleaning, some transformations(adding dummy variables and normalisation) to both train and test sets"
   ]
  },
  {
   "cell_type": "code",
   "execution_count": 4,
   "metadata": {
    "scrolled": true
   },
   "outputs": [],
   "source": [
    "def clean_and_normalise(df):\n",
    "    # ===== list of Products and stores\n",
    "    stores_train = np.sort(df['Supermarket_Identifier'].unique())\n",
    "    Products_train = np.sort(df['Product_Identifier'].unique())\n",
    "    #print(stores_train)\n",
    "    # ===== remove all rows having all columns as NaN\n",
    "    df = df.dropna(how='all')\n",
    "    r,c = df.shape\n",
    "    # replace nan on Product weight and Supermarket size\n",
    "    df['Product_Weight'] = df['Product_Weight'].fillna(df['Product_Weight'].median())\n",
    "    df['Supermarket _Size'] = df['Supermarket _Size'].fillna(df['Supermarket _Size'].mode()[0])\n",
    "\n",
    "    # ===== Normalise Product_Fat_Content to lowercase and then to dummy variables\n",
    "    df['Product_Fat_Content_Numeric'] = df['Product_Fat_Content'].map({\"Ultra Low fat\": 0, \"Low Fat\": 1, \"Normal Fat\": 2})\n",
    "\n",
    "    # ===== Add dummy variable Supermarket_Size_Numeric column\n",
    "    # print(df['Supermarket_Size'].unique())\n",
    "    df['Supermarket_Size_Numeric'] = df['Supermarket _Size'].map({'Small' : 1, 'Medium' : 2, 'High' : 3})\n",
    "\n",
    "    # ===== Add dummy variable Supermarket_Location_Type_Numeric column\n",
    "    # print(df['Supermarket_Location_Type'].unique())\n",
    "    df['Supermarket_Location_Type_Numeric'] = df['Supermarket_Location_Type'].map( {\"Cluster 1\": 1, \"Cluster 2\": 2, \"Cluster 3\": 3})\n",
    "\n",
    "    # ===== Add dummy variable Supermarket_Type_Numeric column\n",
    "    # print(df['Supermarket_Type'].unique())\n",
    "    df['Supermarket_Type_Numeric'] = df['Supermarket_Type'].map(\n",
    "        {'Supermarket Type1' : 1, 'Supermarket Type2' : 2, 'Supermarket Type3' : 3, 'Grocery Store' : 4})\n",
    "\n",
    "    # ===== Add dummy variable Product_Type_Numeric column\n",
    "    Product_type_list = list(trainfull_df['Product_Type'].unique())\n",
    "    # print(Product_type_list)\n",
    "    df['Product_Type_Numeric'] = [0]*r #initialise column with zeros to specify integers\n",
    "\n",
    "    for i in range(r):\n",
    "        Producttype = str(df['Product_Type'].loc[i])\n",
    "        df['Product_Type_Numeric'].set_value(i, Product_type_list.index(Producttype))\n",
    "    \n",
    "    # ===== Normalise Supermarket_Opening_Year\n",
    "    est_year_list = list(df['Supermarket_Opening_Year'].unique())\n",
    "    # print(est_year_list)\n",
    "    df['Age'] = [0]*r      #initialise column with zeros to specify integers\n",
    "\n",
    "    for i in range(r):\n",
    "        curryear = df['Supermarket_Opening_Year'].loc[i]\n",
    "        df['Age'].set_value(i, (2013-curryear))\n",
    "    \n",
    "    # ==== Adding new dummy variable PRICE_Low_High column\n",
    "    Price_low_high = []\n",
    "    for i in range(df.shape[0]):\n",
    "        curr_Price = df['Product_Price'].loc[i]\n",
    "        if(curr_Price <= 69):\n",
    "            Price_low_high.append(0)\n",
    "        elif(curr_Price <= 136):\n",
    "            Price_low_high.append(1)\n",
    "        elif(curr_Price <= 203):\n",
    "            Price_low_high.append(2)\n",
    "        else:\n",
    "            Price_low_high.append(3)\n",
    "    df['PRICE_Low_High'] = Price_low_high\n",
    "    \n",
    "    # ==== Adding new dummy variable Product_Shelf_Visibility_New column\n",
    "    max_visi = df['Product_Shelf_Visibility'].max()\n",
    "    min_visi = df['Product_Shelf_Visibility'].min()\n",
    "    qrt_visi = (max_visi + min_visi)/4\n",
    "    visi_low_high = []\n",
    "    for i in range(df.shape[0]):\n",
    "        curr_value = df['Product_Shelf_Visibility'].loc[i]\n",
    "        if(curr_value <= qrt_visi):\n",
    "            visi_low_high.append(0)\n",
    "        elif(curr_value <= (qrt_visi*2)):\n",
    "            visi_low_high.append(1)\n",
    "        elif(curr_value <= (qrt_visi*3)):\n",
    "            visi_low_high.append(2)\n",
    "        else:\n",
    "            visi_low_high.append(3)\n",
    "    df['Product_Shelf_Visibility_New'] = visi_low_high\n",
    "    \n",
    "    # ==== Supermarket_Location_Type and Product_Fat_Content combined column\n",
    "    loctype = ['Cluster 1', 'Low Fat', 'Cluster 2', 'Cluster 3', ]\n",
    "    Productfat = ['Ultra Low fat', 'Low Fat', 'Normal Fat']\n",
    "    loctype_Productfat=[['Cluster 1', 'Ultra Low fat'], ['Cluster 1', 'Low Fat'], ['Cluster 1', 'Normal Fat']\n",
    "                     , ['Cluster 2', 'Ultra Low fat'], ['Cluster 2', 'Low Fat'], ['Cluster 2', 'Normal Fat']\n",
    "                     , ['Cluster 3', 'Ultra Low fat'], ['Cluster 3', 'Low Fat'], ['Cluster 3', 'Normal Fat']]\n",
    "    df['Loctype_Productfat'] = [0]*r\n",
    "    for i in range(r):\n",
    "        currlocctype = df['Supermarket_Location_Type'].loc[i]\n",
    "        currProductfat = df['Product_Fat_Content'].loc[i]\n",
    "        df['Loctype_Productfat'].set_value(i, loctype_Productfat.index([currlocctype, currProductfat]))\n",
    "    \n",
    "    return df\n",
    "\n",
    "\n",
    "\n",
    "trainfull_df = clean_and_normalise(trainfull_df)\n",
    "testfull_df = clean_and_normalise(testfull_df)\n"
   ]
  },
  {
   "cell_type": "markdown",
   "metadata": {},
   "source": [
    "# Data types of each column"
   ]
  },
  {
   "cell_type": "markdown",
   "metadata": {},
   "source": [
    "print(\" ===== TRAIN =====\\n\"+str(trainfull_df.dtypes))\n",
    "print(\"\\n ===== TEST =====\\n\"+str(testfull_df.dtypes))\n"
   ]
  },
  {
   "cell_type": "markdown",
   "metadata": {},
   "source": [
    "# Plotting some graphs\n",
    "## *Outlet_Size* vs *Item_Outlet_Sales* color divided on *Item_Fat_Content*"
   ]
  },
  {
   "cell_type": "markdown",
   "metadata": {},
   "source": [
    "plt.figure(figsize=(10,7))\n",
    "sns.boxplot(x='Supermarket _Size', y='Product_Supermarket_Sales', data = trainfull_df, hue=\"Product_Fat_Content\")"
   ]
  },
  {
   "cell_type": "markdown",
   "metadata": {},
   "source": [
    "## *Outlet_Location_Type* vs *Item_Outlet_Sales* color divided on *Item_Fat_Content*"
   ]
  },
  {
   "cell_type": "markdown",
   "metadata": {},
   "source": [
    "plt.figure(figsize=(10,7))\n",
    "sns.boxplot(x='Supermarket_Location_Type', y='Product_Supermarket_Sales', data = trainfull_df, hue=\"Product_Fat_Content\")"
   ]
  },
  {
   "cell_type": "markdown",
   "metadata": {},
   "source": [
    "## *Outlet_Type* vs *Item_Outlet_Sales* color divided on *Item_Fat_Content*"
   ]
  },
  {
   "cell_type": "markdown",
   "metadata": {},
   "source": [
    "plt.figure(figsize=(10,7))\n",
    "sns.boxplot(x='Supermarket_Type', y='Product_Supermarket_Sales', data = trainfull_df, hue=\"Product_Fat_Content\")"
   ]
  },
  {
   "cell_type": "markdown",
   "metadata": {},
   "source": [
    "## Correlation Heatmap"
   ]
  },
  {
   "cell_type": "markdown",
   "metadata": {},
   "source": [
    "corr_matrix = trainfull_df.corr()\n",
    "f, ax = plt.subplots(figsize=(20, 12))\n",
    "sns.heatmap(corr_matrix, linewidths=2.0, ax=ax, annot=True)\n",
    "ax.set_title('Correlation Matrix')"
   ]
  },
  {
   "cell_type": "code",
   "execution_count": 5,
   "metadata": {},
   "outputs": [],
   "source": [
    "features2 = ['Supermarket_Type_Numeric', 'Product_Price', 'Supermarket_Size_Numeric', 'Supermarket_Location_Type_Numeric', 'PRICE_Low_High'\n",
    "      'Product_Shelf_Visibility', 'Product_Weight',#'Product_Fat_Content_Numeric', \n",
    "             'Age',  'Product_Shelf_Visibility_New'      ]\n",
    "#'Loctype_Productfat','Product_Type_Numeric',\n",
    "\n",
    "features = ['Product_Price','Supermarket_Type_Numeric', 'Supermarket_Location_Type_Numeric', 'Age', \n",
    "            #'Loctype_Productfat'\n",
    "      'Supermarket_Size_Numeric', 'Product_Shelf_Visibility', 'PRICE_Low_High'\n",
    "    , #'Product_Fat_Content_Numeric', 'Product_Type_Numeric', \n",
    "            'Product_Shelf_Visibility_New', 'Product_Weight'  ]"
   ]
  },
  {
   "cell_type": "markdown",
   "metadata": {},
   "source": [
    "## Plotting feature importance graph using XGB's *plot_importance*"
   ]
  },
  {
   "cell_type": "code",
   "execution_count": 6,
   "metadata": {
    "scrolled": false
   },
   "outputs": [
    {
     "data": {
      "image/png": "[encoded data removed]",
      "text/plain": [
       "<matplotlib.figure.Figure at 0x7f617fa39748>"
      ]
     },
     "metadata": {},
     "output_type": "display_data"
    },
    {
     "data": {
      "image/png": "[encoded data removed]",
      "text/plain": [
       "<matplotlib.figure.Figure at 0x7f617fa39048>"
      ]
     },
     "metadata": {},
     "output_type": "display_data"
    }
   ],
   "source": [
    "train = trainfull_df[:int(trainfull_df.shape[0]*0.8)]\n",
    "# print(train)\n",
    "test = trainfull_df[int(trainfull_df.shape[0]*0.8):]\n",
    "# print(test)\n",
    "\n",
    "estimators = [50, 75]\n",
    "for e in estimators:\n",
    "    xg = xgb.XGBRegressor(n_estimators = e)\n",
    "    \n",
    "#     plt.figure(figsize=(10,10))\n",
    "    xg.fit(train[features], train['Product_Supermarket_Sales'])\n",
    "    xgb.plot_importance(xg, importance_type='gain')#, ax=ax1)\n"
   ]
  },
  {
   "cell_type": "markdown",
   "metadata": {},
   "source": [
    "# Determining which of *RandomForestRegressor* or *GradientBoostingRegressor* or *XGBRegressor* will have minimum RMSE Error"
   ]
  },
  {
   "cell_type": "code",
   "execution_count": 7,
   "metadata": {},
   "outputs": [],
   "source": [
    "def prediction_function(train, test):\n",
    "    estimators = [50, 75, 80, 100, 125, 150, 200, 250, 500]\n",
    "\n",
    "    final = []\n",
    "\n",
    "    for e in estimators:\n",
    "        rf = RandomForestRegressor(random_state = 1, n_estimators = e, min_samples_split = 8, min_samples_leaf = 4)\n",
    "        gbr = GradientBoostingRegressor(random_state = 1, n_estimators = e, min_samples_split = 8, \n",
    "                                        min_samples_leaf = 4, learning_rate = 0.1)\n",
    "        xg = xgb.XGBRegressor(n_estimators = e)\n",
    "\n",
    "        rf.fit(train[features], train['Product_Supermarket_Sales'])\n",
    "        predictions_rf = rf.predict(test[features])\n",
    "        predictions_rf = predictions_rf.astype(int)\n",
    "\n",
    "        gbr.fit(train[features], train['Product_Supermarket_Sales'])\n",
    "        predictions_gbr = gbr.predict(test[features])\n",
    "        predictions_gbr = predictions_gbr.astype(int)\n",
    "\n",
    "        xg.fit(train[features], train['Product_Supermarket_Sales'])\n",
    "        predictions_xg = xg.predict(test[features])\n",
    "        predictions_xg = predictions_xg.astype(int)\n",
    "\n",
    "        mse_rf = (np.sqrt(mean_squared_error(test['Product_Supermarket_Sales'], predictions_rf)), 'RF')\n",
    "        mse_gbr = (np.sqrt(mean_squared_error(test['Product_Supermarket_Sales'], predictions_gbr)), 'GBR')\n",
    "        mse_xg = (np.sqrt(mean_squared_error(test['Product_Supermarket_Sales'], predictions_xg)), 'XGB')\n",
    "\n",
    "        error_min = min(mse_rf, min(mse_gbr, mse_xg))\n",
    "#         print(error_min)\n",
    "        final.append((error_min, e))\n",
    "\n",
    "    min_final = min(final)\n",
    "    print(\"Minimum MSE, regressor to use and number of estimators: \"+str(min_final))\n",
    "    return list(min_final)"
   ]
  },
  {
   "cell_type": "code",
   "execution_count": 8,
   "metadata": {},
   "outputs": [
    {
     "name": "stdout",
     "output_type": "stream",
     "text": [
      "Minimum MSE, regressor to use and number of estimators: ((2721.1462706973066, 'GBR'), 80)\n"
     ]
    }
   ],
   "source": [
    "train = trainfull_df[:int(trainfull_df.shape[0]*0.8)]\n",
    "test = trainfull_df[int(trainfull_df.shape[0]*0.8):]\n",
    "min_final = prediction_function(train, test)"
   ]
  },
  {
   "cell_type": "code",
   "execution_count": 9,
   "metadata": {
    "scrolled": false
   },
   "outputs": [],
   "source": [
    "e_to_use = min_final[1]\n",
    "regressor_to_use = min_final[0][1]\n",
    "# print(\"Mimimum RMSE error was for \"+str(regressor_to_use)+\" with \"+str(e_to_use)+\" estimators\")\n",
    "\n",
    "if(regressor_to_use == 'RF'):\n",
    "    reg = RandomForestRegressor(random_state = 1, n_estimators = e_to_use, min_samples_split = 8, min_samples_leaf = 4)\n",
    "elif(regressor_to_use == 'GBR'):\n",
    "    reg = GradientBoostingRegressor(random_state = 1, n_estimators = e_to_use, min_samples_split = 8, min_samples_leaf = 4, learning_rate = 0.1)\n",
    "else:\n",
    "    reg = xgb.XGBRegressor(n_estimators = e_to_use)\n",
    "\n",
    "reg.fit(trainfull_df[features], trainfull_df['Product_Supermarket_Sales'])\n",
    "predictions = reg.predict(testfull_df[features])\n",
    "predictions = predictions.astype(int)"
   ]
  },
  {
   "cell_type": "markdown",
   "metadata": {},
   "source": [
    "# Writing final output to csv file *output.csv*"
   ]
  },
  {
   "cell_type": "code",
   "execution_count": 10,
   "metadata": {},
   "outputs": [
    {
     "name": "stdout",
     "output_type": "stream",
     "text": [
      "     Product_Supermarket_Identifier  Product_Supermarket_Sales\n",
      "0                 DRA59_CHUKWUDI010                       1272\n",
      "1                 DRA59_CHUKWUDI013                       8301\n",
      "2                 DRB01_CHUKWUDI013                       8278\n",
      "3                 DRB13_CHUKWUDI010                        946\n",
      "4                 DRB13_CHUKWUDI013                       7810\n",
      "5                 DRB25_CHUKWUDI017                       4537\n",
      "6                 DRB25_CHUKWUDI027                       6847\n",
      "7                 DRB25_CHUKWUDI035                       4537\n",
      "8                 DRB48_CHUKWUDI017                       2712\n",
      "9                 DRB48_CHUKWUDI027                       5123\n",
      "10                DRB48_CHUKWUDI035                       2758\n",
      "11                DRB48_CHUKWUDI046                       2656\n",
      "12                DRB48_CHUKWUDI049                       2573\n",
      "13                DRC01_CHUKWUDI017                       2472\n",
      "14                DRC01_CHUKWUDI018                       1883\n",
      "15                DRC01_CHUKWUDI027                       5160\n",
      "16                DRC01_CHUKWUDI045                       2294\n",
      "17                DRC01_CHUKWUDI046                       2409\n",
      "18                DRC13_CHUKWUDI035                       5251\n",
      "19                DRC13_CHUKWUDI045                       5057\n",
      "20                DRC25_CHUKWUDI018                       2794\n",
      "21                DRC25_CHUKWUDI019                        592\n",
      "22                DRC25_CHUKWUDI027                       6280\n",
      "23                DRC25_CHUKWUDI045                       3089\n",
      "24                DRC25_CHUKWUDI046                       3214\n",
      "25                DRC27_CHUKWUDI010                       2355\n",
      "26                DRC27_CHUKWUDI018                       9546\n",
      "27                DRC27_CHUKWUDI049                       8810\n",
      "28                DRC36_CHUKWUDI013                       7261\n",
      "29                DRD01_CHUKWUDI017                       2730\n",
      "...                             ...                        ...\n",
      "3502              NCY41_CHUKWUDI035                       2684\n",
      "3503              NCY41_CHUKWUDI045                       2374\n",
      "3504              NCY41_CHUKWUDI046                       2499\n",
      "3505              NCY41_CHUKWUDI049                       2499\n",
      "3506              NCY53_CHUKWUDI017                       4568\n",
      "3507              NCY53_CHUKWUDI027                       6847\n",
      "3508              NCZ05_CHUKWUDI019                        888\n",
      "3509              NCZ05_CHUKWUDI035                       4418\n",
      "3510              NCZ06_CHUKWUDI013                      10666\n",
      "3511              NCZ06_CHUKWUDI018                       9142\n",
      "3512              NCZ06_CHUKWUDI046                       9349\n",
      "3513              NCZ06_CHUKWUDI049                       9349\n",
      "3514              NCZ17_CHUKWUDI017                       2798\n",
      "3515              NCZ17_CHUKWUDI018                       2091\n",
      "3516              NCZ17_CHUKWUDI027                       4908\n",
      "3517              NCZ17_CHUKWUDI045                       2374\n",
      "3518              NCZ17_CHUKWUDI046                       2499\n",
      "3519              NCZ18_CHUKWUDI018                       9268\n",
      "3520              NCZ18_CHUKWUDI046                       9814\n",
      "3521              NCZ18_CHUKWUDI049                       9731\n",
      "3522              NCZ29_CHUKWUDI045                       5196\n",
      "3523              NCZ30_CHUKWUDI027                       7704\n",
      "3524              NCZ30_CHUKWUDI035                       5072\n",
      "3525              NCZ30_CHUKWUDI045                       4895\n",
      "3526              NCZ41_CHUKWUDI045                       5019\n",
      "3527              NCZ42_CHUKWUDI010                       2924\n",
      "3528              NCZ42_CHUKWUDI013                      12547\n",
      "3529              NCZ42_CHUKWUDI049                       9921\n",
      "3530              NCZ53_CHUKWUDI010                       1434\n",
      "3531              NCZ53_CHUKWUDI013                       8439\n",
      "\n",
      "[3532 rows x 2 columns]\n"
     ]
    }
   ],
   "source": [
    "h = pd.DataFrame()\n",
    "h['Product_Supermarket_Identifier'] = testfull_df['Product_Supermarket_Identifier']\n",
    "h['Product_Supermarket_Sales'] = pd.DataFrame(predictions)\n",
    "print(h)\n",
    "#sub = pd.DataFrame( {'Product_Identifier' : train['Product_Identifier'], 'Product_Supermarket_Sales' : testfull_df['Product_Supermarket_Sales'], 'Product_Supermarket_Sales' : predictions})\n",
    "h.to_csv('output/result.csv', index=False)"
   ]
  },
  {
   "cell_type": "code",
   "execution_count": null,
   "metadata": {},
   "outputs": [],
   "source": []
  }
 ],
 "metadata": {
  "anaconda-cloud": {},
  "kernelspec": {
   "display_name": "Python 3",
   "language": "python",
   "name": "python3"
  },
  "language_info": {
   "codemirror_mode": {
    "name": "ipython",
    "version": 3
   },
   "file_extension": ".py",
   "mimetype": "text/x-python",
   "name": "python",
   "nbconvert_exporter": "python",
   "pygments_lexer": "ipython3",
   "version": "3.6.4"
  }
 },
 "nbformat": 4,
 "nbformat_minor": 1
}
